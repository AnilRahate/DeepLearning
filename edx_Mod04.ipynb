{
 "cells": [
  {
   "cell_type": "code",
   "execution_count": 8,
   "metadata": {},
   "outputs": [
    {
     "name": "stdout",
     "output_type": "stream",
     "text": [
      "welcome, please guess a bird\n",
      "guess a bird: hen\n",
      "you could guess in 1st attempt:  hen\n",
      "bye\n"
     ]
    }
   ],
   "source": [
    "# [] Create the \"Guess the bird\" program \n",
    "print(\"welcome, please guess a bird\")\n",
    "bird_names=\"'parrot','hen','sparrow','crow','piegon'\"\n",
    "guess1=input(\"guess a bird: \").lower()\n",
    "guess_check=guess1 in bird_names\n",
    "\n",
    "if guess_check==False:\n",
    "    print(\"oh. try again\")\n",
    "    guess2=input(\"guess a bird: \")\n",
    "    guess_check2=guess2 in bird_names\n",
    "    \n",
    "    if guess_check2==False:\n",
    "        print(\"oh! try again\")\n",
    "        guess3=input(\"guess a bird: \")\n",
    "        guess_check3=guess1 in bird_names\n",
    "        if guess_check3==False:\n",
    "            print(\"sorry attempts over\")\n",
    "        else:\n",
    "            print(\"you could guess in 3rd attempt: \", guess3)\n",
    "    else:\n",
    "        print(\"you could guess in 2nd attempt: \", guess2)\n",
    "       \n",
    "else:\n",
    "    print(\"you could guess in 1st attempt: \", guess1)\n",
    "          \n",
    "print(\"bye\")"
   ]
  },
  {
   "cell_type": "code",
   "execution_count": 59,
   "metadata": {},
   "outputs": [
    {
     "name": "stdout",
     "output_type": "stream",
     "text": [
      "\"Hello\"\n",
      "World\"\n",
      "Hello\n",
      "World!\n",
      "\\\\\\\\\n"
     ]
    }
   ],
   "source": [
    "print(\"\\\"Hello\\\"\"  + '\\n'+ \"World\\\"\")\n",
    "print(\"Hello\\nWorld!\")\n",
    "print(\"\\\\\\\\\\\\\\\\\")"
   ]
  },
  {
   "cell_type": "code",
   "execution_count": 67,
   "metadata": {},
   "outputs": [
    {
     "name": "stdout",
     "output_type": "stream",
     "text": [
      "guess a familiar name anil\n",
      "welcome True\n"
     ]
    }
   ],
   "source": [
    "while True:\n",
    "    guess=input(\"guess a familiar name \").isalpha()\n",
    "    if guess==True:\n",
    "        print(\"welcome\",guess)\n",
    "        break\n",
    "    else:\n",
    "        guess=input(\"guess a familiar name \").isalpha()\n",
    "        \n",
    "        "
   ]
  },
  {
   "cell_type": "code",
   "execution_count": 73,
   "metadata": {},
   "outputs": [
    {
     "name": "stdout",
     "output_type": "stream",
     "text": [
      "seat count: 0\n",
      "seat count: 1\n",
      "seat count: 2\n",
      "seat count: 3\n",
      "seat count: 4\n",
      "seat count: 5\n"
     ]
    }
   ],
   "source": [
    "seat_count = 0\n",
    "while True:\n",
    "    print(\"seat count:\",seat_count)\n",
    "    seat_count += 1\n",
    "\n",
    "    if seat_count > 5:\n",
    "        break"
   ]
  },
  {
   "cell_type": "code",
   "execution_count": 76,
   "metadata": {},
   "outputs": [
    {
     "name": "stdout",
     "output_type": "stream",
     "text": [
      "enter seat type of \"hard\",\"soft\" or \"exit\" (to finish): e\n",
      "\n",
      "0 Seats Total:  0 hard and 0 soft\n"
     ]
    }
   ],
   "source": [
    "# initialize variables\n",
    "seat_count = 0\n",
    "soft_seats = 0\n",
    "hard_seats = 0\n",
    "num_seats = 4\n",
    "\n",
    "# loops tallying seats using soft pads vs hard, until seats full or user \"exits\"\n",
    "while True:\n",
    "    seat_type = input('enter seat type of \"hard\",\"soft\" or \"exit\" (to finish): ')\n",
    "    \n",
    "    if seat_type.lower().startswith(\"e\"):\n",
    "        print()\n",
    "        break\n",
    "    elif seat_type.lower() == \"hard\":\n",
    "        hard_seats += 1\n",
    "    elif seat_type.lower() == \"soft\":\n",
    "        soft_seats += 1\n",
    "    else:\n",
    "        print(\"invalid entry: counted as hard\")\n",
    "        hard_seats += 1  \n",
    "    seat_count += 1\n",
    "    if seat_count >= num_seats:\n",
    "        print(\"\\nseats are full\")\n",
    "        break\n",
    "        \n",
    "print(seat_count,\"Seats Total: \",hard_seats,\"hard and\",soft_seats,\"soft\" )"
   ]
  },
  {
   "cell_type": "code",
   "execution_count": 82,
   "metadata": {},
   "outputs": [
    {
     "name": "stdout",
     "output_type": "stream",
     "text": [
      "enter shirt type of \"small\",\"medium\",\"large\" or \"exit\" (to finish): e\n",
      "\n",
      "0 shirts Total:  0 small and 0 medium and  0 large\n",
      "small Price:  0 mediumm price:  0 large price:  0 total price: 0\n"
     ]
    }
   ],
   "source": [
    "# initialize variables\n",
    "shirt_count = 0\n",
    "small = 0\n",
    "medium = 0\n",
    "large = 0\n",
    "\n",
    "# loops tallying seats using soft pads vs hard, until seats full or user \"exits\"\n",
    "while True:\n",
    "    seat_type = input('enter shirt type of \"small\",\"medium\",\"large\" or \"exit\" (to finish): ')\n",
    "    \n",
    "    if seat_type.lower().startswith(\"e\"):\n",
    "        print()\n",
    "        break\n",
    "    elif seat_type.lower() == \"small\":\n",
    "        small += 1\n",
    "    elif seat_type.lower() == \"medium\":\n",
    "        medium += 1\n",
    "    elif seat_type.lower() == \"large\":\n",
    "        large += 1\n",
    "    else:\n",
    "        print(\"invalid entry: counted as medium\")\n",
    "        medium += 1  \n",
    "    shirt_count += 1\n",
    "\n",
    "    \n",
    "    \n",
    "print(shirt_count,\"shirts Total: \",small,\"small and\",medium, \"medium and \",large,\"large\" )\n",
    "print(\"small Price: \", small*5,\"mediumm price: \",medium*6,\"large price: \",large*7,\"total price:\",small*5+medium*6+large*7)\n"
   ]
  },
  {
   "cell_type": "code",
   "execution_count": 84,
   "metadata": {},
   "outputs": [
    {
     "name": "stdout",
     "output_type": "stream",
     "text": [
      "Enter an integer: 1\n",
      "Enter an integer: k\n",
      "1\n"
     ]
    }
   ],
   "source": [
    "num_1 = \"\"\n",
    "num_temp = \"\"\n",
    "num_final = \"\"\n",
    "\n",
    "while True:\n",
    "    num_1 = input(\"Enter an integer: \")\n",
    "    if num_1.isdigit():\n",
    "        num_final = num_temp + num_1\n",
    "        num_temp = num_final\n",
    "    else:\n",
    "        print(num_final)\n",
    "        break"
   ]
  },
  {
   "cell_type": "code",
   "execution_count": 93,
   "metadata": {},
   "outputs": [
    {
     "name": "stdout",
     "output_type": "stream",
     "text": [
      "Enter an animal name: cow\n",
      "Enter an animal name: bull\n",
      "Enter an animal name: man\n",
      "Enter an animal name: exit\n",
      "\n",
      "cow\n",
      "bull\n",
      "man\n"
     ]
    }
   ],
   "source": [
    "all_animals=\"\"\n",
    "animal_num=0\n",
    "while(animal_num < 5):\n",
    "    animal=input(\"Enter an animal name: \")\n",
    "    if animal==\"exit\":\n",
    "        break\n",
    "    else:\n",
    "        all_animals=all_animals+'\\n' +animal\n",
    "        animal_num=animal_num+1\n",
    "        \n",
    "        \n",
    "print (all_animals)\n",
    "\n"
   ]
  },
  {
   "cell_type": "code",
   "execution_count": 99,
   "metadata": {},
   "outputs": [
    {
     "name": "stdout",
     "output_type": "stream",
     "text": [
      "Enter a number12\n",
      "Enter a number12\n",
      "Enter a number12\n",
      "Enter a numbertye\n",
      "121212\n"
     ]
    }
   ],
   "source": [
    "long_num=\"\"\n",
    "int_num=input(\"Enter a number\")\n",
    "while int_num.isdigit()==True:\n",
    "    long_num=long_num + int_num\n",
    "    int_num=input(\"Enter a number\")\n",
    "    \n",
    "print(long_num)\n",
    "\n"
   ]
  },
  {
   "cell_type": "code",
   "execution_count": 121,
   "metadata": {},
   "outputs": [
    {
     "name": "stdout",
     "output_type": "stream",
     "text": [
      "1 x 1 = 1\n",
      "2 x 2 = 4\n",
      "3 x 3 = 9\n",
      "4 x 4 = 16\n"
     ]
    }
   ],
   "source": [
    "count=1\n",
    "while count<5:\n",
    "    print(count, \"x\", count, \"=\", count*count)\n",
    "    count = count+1\n"
   ]
  },
  {
   "cell_type": "code",
   "execution_count": 138,
   "metadata": {},
   "outputs": [
    {
     "name": "stdout",
     "output_type": "stream",
     "text": [
      "enter last name: name\n"
     ]
    },
    {
     "data": {
      "text/plain": [
       "True"
      ]
     },
     "execution_count": 138,
     "metadata": {},
     "output_type": "execute_result"
    }
   ],
   "source": [
    "def ignore_case(name):\n",
    "    answer =\"\"\n",
    "    while answer.isalpha() == False:\n",
    "        answer = input(\"enter last name: \")\n",
    "    return answer.lower() == name.lower()\n",
    "\n",
    "ignore_case(\"name\")"
   ]
  },
  {
   "cell_type": "code",
   "execution_count": 12,
   "metadata": {},
   "outputs": [
    {
     "name": "stdout",
     "output_type": "stream",
     "text": [
      "enter a word or integer :qw\n",
      "qw  is all alphabetic\n"
     ]
    }
   ],
   "source": [
    "#str_analysis program\n",
    "def str_analysis(input1):\n",
    "   \n",
    "    if input1.isdigit():\n",
    "        input1=int(input1)\n",
    "        if input1>99:\n",
    "            print(input1 ,\"is a pretty big number\")\n",
    "        else:\n",
    "            print(input1 ,\"is a small number\")\n",
    "    elif input1.isalpha():\n",
    "        print(input1,\" is all alphabetic\")\n",
    "    else:\n",
    "        print(input1,\" is multiple character types\")\n",
    "        return\n",
    "\n",
    "input2=\"\"\n",
    "while input2==\"\":\n",
    "    input2=input(\"enter a word or integer :\")\n",
    "\n",
    "str_analysis(input2)\n",
    "    "
   ]
  },
  {
   "cell_type": "code",
   "execution_count": null,
   "metadata": {},
   "outputs": [],
   "source": [
    "#Program: adding_report() function\n",
    "\n",
    "def adding_report(report_type):\n",
    "  #  report_type=input(\"enter a report type, 'A', 'T' or 'Q' to Quit: \")\n",
    "    while(True):\n",
    "        input1 = input(\"enter an interger or 'Q' to Quit: \")\n",
    "        total='0'\n",
    "        items=\"\"\n",
    "        if input1.isdigit():\n",
    "            total=total+input1\n",
    "            items=str(items)+'\\n'+str(input1)\n",
    "        else\n",
    "        #input1==\"Q\":\n",
    "        #    if report_type=='A':\n",
    "                print(total)\n",
    "                print(items)\n",
    "         #   elif report_type=='T':\n",
    "                    print(total)\n",
    "          #  else:\n",
    "                break\n",
    "        #else:\n",
    "         #       print(\"invalid input\")\n",
    "                    \n",
    "adding_report('T')      \n",
    "        \n",
    "    \n",
    "    \n",
    "    "
   ]
  },
  {
   "cell_type": "code",
   "execution_count": 68,
   "metadata": {},
   "outputs": [
    {
     "name": "stdout",
     "output_type": "stream",
     "text": [
      "enter an interger or 'Q' to Quit: 10\n",
      "\n",
      "enter an interger or 'Q' to Quit: 20\n",
      "\n",
      "enter an interger or 'Q' to Quit: 30\n",
      "\n",
      "enter an interger or 'Q' to Quit: five'\n",
      "invalid input\n",
      "enter an interger or 'Q' to Quit: Q\n",
      "Total:  60\n"
     ]
    }
   ],
   "source": [
    "#Program: adding_report() function\n",
    "\n",
    "\n",
    "def adding_report(report_type):\n",
    "    total='0'\n",
    "    items=\"\"\n",
    "    while(True):\n",
    "        input1 = input(\"enter an interger or 'Q' to Quit: \")\n",
    "        \n",
    "        if input1.isdigit():\n",
    "            total=int(total)+int(input1)\n",
    "        \n",
    "            if report_type==\"A\":\n",
    "                items=str(items)+'\\n'+str(input1)    \n",
    "            else:\n",
    "                print()\n",
    "            \n",
    "        elif input1 !='Q':\n",
    "            print(\"invalid input\")\n",
    "        \n",
    "        elif report_type==\"A\":\n",
    "            print(\"Total: \",total)\n",
    "            print(\"-----------------------------\")\n",
    "            print(\"Items: \",items)\n",
    "            break\n",
    "        \n",
    "        else:\n",
    "            print(\"Total: \",total)\n",
    "            break\n",
    "         \n",
    "    return\n",
    "\n",
    "adding_report(\"T\")\n",
    "\n"
   ]
  }
 ],
 "metadata": {
  "kernelspec": {
   "display_name": "Python 3",
   "language": "python",
   "name": "python3"
  },
  "language_info": {
   "codemirror_mode": {
    "name": "ipython",
    "version": 3
   },
   "file_extension": ".py",
   "mimetype": "text/x-python",
   "name": "python",
   "nbconvert_exporter": "python",
   "pygments_lexer": "ipython3",
   "version": "3.6.5"
  }
 },
 "nbformat": 4,
 "nbformat_minor": 2
}
