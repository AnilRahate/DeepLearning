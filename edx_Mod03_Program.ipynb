{
  "cells": [
    {
      "metadata": {
        "trusted": true
      },
      "cell_type": "code",
      "source": "hot_tea = False\n\nif hot_tea:\n    print(\"enjoy some hot tea!\")\nelse:\n    print(\"enjoy some tea, and perhaps try hot tea next time.\")",
      "execution_count": 7,
      "outputs": [
        {
          "output_type": "stream",
          "text": "enjoy some tea, and perhaps try hot tea next time.\n",
          "name": "stdout"
        }
      ]
    },
    {
      "metadata": {
        "trusted": true
      },
      "cell_type": "code",
      "source": "someone_i_know = True\nif someone_i_know:\n    print(\"how have you been?\")\nelse:\n    # use pass if there is no need to execute code \npass",
      "execution_count": 11,
      "outputs": [
        {
          "output_type": "stream",
          "text": "how have you been?\n",
          "name": "stdout"
        }
      ]
    },
    {
      "metadata": {
        "trusted": true
      },
      "cell_type": "code",
      "source": "# [ ] test if it is sunny_today and give proper responses using if and else\nsunny_today = False\nif sunny_today:\n    print(\"it is sunny today\")\nelse:\n    print(\"it is not sunny today\")",
      "execution_count": 15,
      "outputs": [
        {
          "output_type": "stream",
          "text": "it is not sunny today\n",
          "name": "stdout"
        }
      ]
    },
    {
      "metadata": {
        "trusted": true
      },
      "cell_type": "code",
      "source": "# review code and run cell\nfavorite_book = input(\"Enter the title of a favorite book: \")\n\nif favorite_book.istitle():\n    print(favorite_book, \"- nice capitalization in that title!\")\nelse:\n    print(favorite_book, \"- consider capitalization throughout for book titles.\")\n# review code and run cell\na_number = input(\"enter a positive integer number: \")\nif a_number.isdigit():\n    print(a_number, \"is a positive integer\")\nelse:\n    print(a_number, \"is not a positive integer\")\n    \nif a_number.isalpha():\n    print(a_number, \"is more like a word\")\nelse:\n    pass",
      "execution_count": 23,
      "outputs": [
        {
          "output_type": "stream",
          "name": "stdout",
          "text": "Enter the title of a favorite book: hut\nhut - consider capitalization throughout for book titles.\nenter a positive integer number: 9\n9 is a positive integer\n"
        }
      ]
    },
    {
      "metadata": {
        "trusted": true
      },
      "cell_type": "code",
      "source": "# review code and run cell\nvehicle_type = input('\"enter a type of vehicle that starts with \"P\": ')\n\nif vehicle_type.upper().startswith(\"P\"):\n    print(vehicle_type, 'starts with \"P\"')\nelse:\n    print(vehicle_type, 'does not start with \"P\"')",
      "execution_count": 25,
      "outputs": [
        {
          "output_type": "stream",
          "name": "stdout",
          "text": "\"enter a type of vehicle that starts with \"P\": pit\npit starts with \"P\"\n"
        }
      ]
    },
    {
      "metadata": {
        "trusted": true
      },
      "cell_type": "code",
      "source": "# [ ] use if, else to test for islower() for the 2 strings\n\ndef w_start_test(test_string):\n    start = test_string.startswith('w')\n    return start\n\ntest_string_1 = \"mwelcome\"\ntest_string_2 = \"mw have $3\"\ntest_string_3 = \"mw not w\"\n\nif w_start_test(test_string_1):\n    print(\"test string 1 starts with W\")\nelse:\n    print(\"test string 1 is does NOT start with W\")\nif w_start_test(test_string_2):\n    print(\"test string 2 starts with W\")\nelse:\n    print(\"test string 2 is does NOT start with W\")\n\nif w_start_test(test_string_3):\n    print(\"test string 3 starts with W\")\nelse:\n    print(\"test string 3 is does NOT start with W\")",
      "execution_count": 35,
      "outputs": [
        {
          "output_type": "stream",
          "text": "test string 1 is does NOT start with W\ntest string 2 is does NOT start with W\ntest string 3 is does NOT start with W\n",
          "name": "stdout"
        }
      ]
    },
    {
      "metadata": {
        "trusted": true
      },
      "cell_type": "code",
      "source": "year = \"2001\" \n\nif year.isdigit():\n    print(year, \"is all digits\")  \nelse:\n\n    pass\n",
      "execution_count": 38,
      "outputs": [
        {
          "output_type": "stream",
          "text": "2001 is all digits\n",
          "name": "stdout"
        }
      ]
    },
    {
      "metadata": {
        "trusted": true
      },
      "cell_type": "code",
      "source": "\n# [ ] create a test to print() True or False for x is equal to 13\n# [ ] create a test to print True or False for 3 + 3 is greater than 2 + 4\nx = 9 + 4\nprint(\"X is equal to 13 is \", x==13)\nprint(\"X is greater than \", 3+3>2+4)",
      "execution_count": 47,
      "outputs": [
        {
          "output_type": "stream",
          "text": "X is equal to 13 is  True\nX is greater than  False\n",
          "name": "stdout"
        }
      ]
    },
    {
      "metadata": {
        "trusted": true
      },
      "cell_type": "code",
      "source": "# [ ] create an if/else statement that tests if y is greater than or equal x + x \n# [ ] print output: \"y greater than or equal x + x is\" True/False ...or a similar output\nx = -3\ny = x-1\nif y>=x+x:\n    print (\"y greater than or equal x + x is True\") \nelse:\n    print(\"false\")",
      "execution_count": 53,
      "outputs": [
        {
          "output_type": "stream",
          "text": "y greater than or equal x + x is True\n",
          "name": "stdout"
        }
      ]
    },
    {
      "metadata": {
        "trusted": true
      },
      "cell_type": "code",
      "source": "msg = \"Hello\"\ngreeting = input(\"say greeting  \")\n\nif(msg==greeting.title()):\n    print(\"Hello, Hello!\")\nelse: \n    print(\"say it right\")\n\n",
      "execution_count": 72,
      "outputs": [
        {
          "output_type": "stream",
          "name": "stdout",
          "text": "say greeting  hello\nHello, Hello!\n"
        }
      ]
    },
    {
      "metadata": {
        "trusted": true
      },
      "cell_type": "code",
      "source": "def tf_quiz(string1,string2):\n    if user_answer==string2:\n        return (\"Correct\")   \n    else:\n        return (\"Incorrect\")\n\nuser_answer=input(\"T/F: Red is Blue \").upper()\nquiz_eval=tf_quiz(\"red is blue\",\"F\")\n\nprint(\"Your answer is \",quiz_eval)",
      "execution_count": 86,
      "outputs": [
        {
          "output_type": "stream",
          "name": "stdout",
          "text": "T/F: Red is Blue g\nYour answer is  Incorrect\n"
        }
      ]
    },
    {
      "metadata": {
        "trusted": true
      },
      "cell_type": "code",
      "source": "user_size=input(\"Shirt Size \").upper()\nif user_size.isdigit()==True:\n    print(\"This is not size category\")\nelif user_size==\"S\":\n    print(\"Small Size Shirt is $6\")\nelif user_size==\"M\":\n    print(\"Medium Size Shirt is $7\")\nelif user_size==\"L\":\n    print(\"Large Size Shirt is $8\")\nelse:\n    print(\"That Size Shirt is not available\")\n",
      "execution_count": null,
      "outputs": []
    },
    {
      "metadata": {
        "trusted": true
      },
      "cell_type": "code",
      "source": "num1=input(\"1st number to add \")\nif num1.isdigit():\n    print(\"you entered\",num1)\nelse:\n    print(\"please enter valid number\")\nnum2=input(\"2nd number to add \")\ntotal=int(num1)+int(num2)\nprint(\"toal is \",total)",
      "execution_count": 105,
      "outputs": [
        {
          "output_type": "stream",
          "name": "stdout",
          "text": "1st number to add 12\nyou entered 12\n2nd number to add 12\ntoal is  24\n"
        }
      ]
    },
    {
      "metadata": {
        "trusted": true
      },
      "cell_type": "code",
      "source": "111+84-45*2",
      "execution_count": 1,
      "outputs": [
        {
          "output_type": "execute_result",
          "execution_count": 1,
          "data": {
            "text/plain": "105"
          },
          "metadata": {}
        }
      ]
    },
    {
      "metadata": {
        "trusted": true
      },
      "cell_type": "code",
      "source": "def operation():\n    num_1 = int(input(\"Enter 1st whole number to operate: \"))\n    operator=input(\"operation to be carried out: \")\n    num_2 = int(input(\"Enter 2nd whole number to operate: \"))\n    \n    if (operator==\"*\"):\n        ans=num_1*num_2\n    elif (operator ==\"/\"):\n        ans=num_1/num_2\n    else: \n        #print(\"invalid operator\")\n        ans=print(\"Invalid Operator\")\n    return(ans)\nans_final=operation()\nprint(\"operation of two numbers is \",ans_final)\n\n    ",
      "execution_count": 12,
      "outputs": [
        {
          "output_type": "stream",
          "name": "stdout",
          "text": "Enter 1st whole number to operate: 12\noperation to be carried out: x\nEnter 2nd whole number to operate: 12\nInvalid Operator\noperation of two numbers is  None\n"
        }
      ]
    },
    {
      "metadata": {
        "trusted": true
      },
      "cell_type": "code",
      "source": "student_name = input(\"enter name: \").capitalize()\nif student_name.startswith(\"F\"):\n    print(student_name,\"Congratulations, names starting with 'F' get to go first today!\")\nelif student_name.startswith(\"G\"):\n    print(student_name,\"Congratulations, names starting with 'G' get to go second today!\")\nelse:\n    print(student_name, \"please wait for students with names staring with 'F' and 'G' to go first today.\")",
      "execution_count": 16,
      "outputs": [
        {
          "output_type": "stream",
          "name": "stdout",
          "text": "enter name: Anil\nAnil please wait for students with names staring with 'F' and 'G' to go first today.\n"
        }
      ]
    },
    {
      "metadata": {
        "trusted": true
      },
      "cell_type": "code",
      "source": "age=int(input(\"eneter your age \"))\nif age>=12:\n    print(\"age is over 10 years\")\nelse:\n    print(\"it is good to be \", age)\n    ",
      "execution_count": 21,
      "outputs": [
        {
          "output_type": "stream",
          "name": "stdout",
          "text": "eneter your age9\nit is good to be  9\n"
        }
      ]
    },
    {
      "metadata": {
        "trusted": true
      },
      "cell_type": "code",
      "source": "num=input(\"enter a number: \")\nif num.isdigit():\n    if int(num)>=100:\n        print(\"number age is greater than 100\")\n    else:\n        print(\"number age is less than 100\")\nelse:\n    print(\"only interger is expected\")",
      "execution_count": 25,
      "outputs": [
        {
          "output_type": "stream",
          "name": "stdout",
          "text": "eneter a number: 67\nnumber age is less than 100\n"
        }
      ]
    },
    {
      "metadata": {
        "trusted": true
      },
      "cell_type": "code",
      "source": "def check_guess(letter,guess):\n    if guess.isalpha():\n        if letter==guess:\n            print(\"guess is correct\")\n        else:\n            print(\"guess is not correct\")\n    else:\n        print(\"guess is not valid alpha char\")\n        \nletter=input(\"please enter a letter: \")\nguess=input(\"please enter a guess: \")\ncheck_guess(letter,guess)\n",
      "execution_count": 34,
      "outputs": [
        {
          "output_type": "stream",
          "name": "stdout",
          "text": "please enter a letter: A\nplease enter a guess: A\nguess is correct\n"
        }
      ]
    },
    {
      "metadata": {
        "trusted": true
      },
      "cell_type": "code",
      "source": "about_pet=input(\"please tell us about your pet \")\nhas_dog= \"dog\" in about_pet.lower()\nhas_cat= \"cat\" in about_pet.lower()\nif has_dog:\n    print(\"Ah it is a dog\")\n    if has_cat:\n        print(\"there are more than 1 animal\")\nelif has_cat:\n    print(\"Ah it is cat\")   \nelse:\n    print(\"there are no matching pets\")",
      "execution_count": 46,
      "outputs": [
        {
          "output_type": "stream",
          "name": "stdout",
          "text": "please tell us about your pet cat dog cow\nAh it is a dog\nthere are more than 1 animal\n"
        }
      ]
    },
    {
      "metadata": {
        "trusted": true
      },
      "cell_type": "code",
      "source": "min=0.25\nmax=100\n\norder_wt=input(\"please enter weight to be ordered \")\n\nif float(order_wt)>max:\n    print(order_wt, \"is more than currently available stock\")\nelif float(order_wt) < 0.25:\n    print(order_wt, \"is below minimum order amount\")\nelse: \n    print(\"cost of \", order_wt, \"is\", float(order_wt)*55)",
      "execution_count": 56,
      "outputs": [
        {
          "output_type": "stream",
          "name": "stdout",
          "text": "please enter weight to be ordered 80\ncost of  80 is 4400.0\n"
        }
      ]
    }
  ],
  "metadata": {
    "kernelspec": {
      "name": "python3",
      "display_name": "Python 3",
      "language": "python"
    },
    "language_info": {
      "mimetype": "text/x-python",
      "nbconvert_exporter": "python",
      "name": "python",
      "file_extension": ".py",
      "version": "3.5.4",
      "pygments_lexer": "ipython3",
      "codemirror_mode": {
        "version": 3,
        "name": "ipython"
      }
    }
  },
  "nbformat": 4,
  "nbformat_minor": 2
}