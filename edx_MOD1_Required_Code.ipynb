{
  "cells": [
    {
      "metadata": {
        "trusted": true
      },
      "cell_type": "code",
      "source": "#this is allergy check code\n#Please enter the categories of food eaten in the last 24 hours\ninput_test=input(\"Please enter the categories of food eaten in the last 24 hours\").lower()\ncategory= \"dairy\" in input_test\nprint(\"it is \", category, \"that\",input_test,\"contains \",\"dairy\")\n\ncategory= \"nuts\" in input_test\nprint(\"it is \", category, \"that\",input_test,\"contains \",\"nuts\")\n\ncategory=\"seafood\" in input_test\nprint(\"it is \", category, \"that\",input_test,\"contains \",\"seafood\")\n\ncategory=\"chocolate\" in input_test\nprint(\"it is \", category, \"that\",input_test,\"contains \",\"chocolate\")",
      "execution_count": 11,
      "outputs": [
        {
          "output_type": "stream",
          "name": "stdout",
          "text": "Please enter the categories of food eaten in the last 24 hoursmeat, dairy, fruits,pasta,nuts\nit is  True that meat, dairy, fruits,pasta,nuts contains  dairy\nit is  True that meat, dairy, fruits,pasta,nuts contains  nuts\nit is  False that meat, dairy, fruits,pasta,nuts contains  seafood\nit is  False that meat, dairy, fruits,pasta,nuts contains  chocolate\n"
        }
      ]
    }
  ],
  "metadata": {
    "kernelspec": {
      "name": "python3",
      "display_name": "Python 3",
      "language": "python"
    },
    "language_info": {
      "mimetype": "text/x-python",
      "nbconvert_exporter": "python",
      "name": "python",
      "file_extension": ".py",
      "version": "3.5.4",
      "pygments_lexer": "ipython3",
      "codemirror_mode": {
        "version": 3,
        "name": "ipython"
      }
    }
  },
  "nbformat": 4,
  "nbformat_minor": 1
}