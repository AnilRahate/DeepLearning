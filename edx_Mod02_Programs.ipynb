{
 "cells": [
  {
   "cell_type": "code",
   "execution_count": 4,
   "metadata": {},
   "outputs": [
    {
     "name": "stdout",
     "output_type": "stream",
     "text": [
      "hello there\n",
      "bye\n"
     ]
    }
   ],
   "source": [
    "def welcome():\n",
    "    print(\"hello there\")\n",
    "welcome()\n",
    "\n",
    "def bye():\n",
    "     print(\"bye\")\n",
    "bye()"
   ]
  },
  {
   "cell_type": "code",
   "execution_count": 6,
   "metadata": {},
   "outputs": [
    {
     "name": "stdout",
     "output_type": "stream",
     "text": [
      "Hello there!\n",
      "goodbye\n",
      "\n",
      "33\n"
     ]
    }
   ],
   "source": [
    "# Program defines and calls the say_hi & three_three functions\n",
    "# [ ] review and run the code\n",
    "\n",
    "def say_hi():\n",
    "    print(\"Hello there!\")\n",
    "    print(\"goodbye\")\n",
    "# end of indentation ends the function\n",
    "\n",
    "# define three_three \n",
    "def three_three():\n",
    "    print(33) \n",
    "\n",
    "# calling the functions\n",
    "say_hi()\n",
    "print()\n",
    "three_three()"
   ]
  },
  {
   "cell_type": "code",
   "execution_count": 18,
   "metadata": {},
   "outputs": [
    {
     "name": "stdout",
     "output_type": "stream",
     "text": [
      "HELLO!\n",
      "GOOD BYE!\n",
      "THAT'S AWESOME!\n"
     ]
    }
   ],
   "source": [
    "#function Yell it!\n",
    "phrase =\"that's awesome\"\n",
    "def yell_it(phrase=\"hello\"):\n",
    "    print(phrase.upper()+\"!\")\n",
    "yell_it()\n",
    "yell_it(\"good bye\")\n",
    "yell_it(phrase)\n"
   ]
  },
  {
   "cell_type": "code",
   "execution_count": 22,
   "metadata": {},
   "outputs": [
    {
     "name": "stdout",
     "output_type": "stream",
     "text": [
      "please enter words  gu\n",
      "GU!\n"
     ]
    }
   ],
   "source": [
    " # [ ] define yell_this()\n",
    "words_to_yell =input(\"please enter words  \") \n",
    "def yell_this():\n",
    "    print(words_to_yell.upper()+\"!\")\n",
    "yell_this()"
   ]
  },
  {
   "cell_type": "code",
   "execution_count": 25,
   "metadata": {},
   "outputs": [
    {
     "name": "stdout",
     "output_type": "stream",
     "text": [
      "enter full name joe\n"
     ]
    },
    {
     "data": {
      "text/plain": [
       "('Dr. ', 'joe')"
      ]
     },
     "execution_count": 25,
     "metadata": {},
     "output_type": "execute_result"
    }
   ],
   "source": [
    "def make_doctor():\n",
    "    full_name=input(\"enter full name \")\n",
    "    return(\"Dr. \",full_name)\n",
    "make_doctor()\n"
   ]
  },
  {
   "cell_type": "code",
   "execution_count": 4,
   "metadata": {},
   "outputs": [
    {
     "name": "stdout",
     "output_type": "stream",
     "text": [
      "SCHEDULE:  ('[1st]', 'English', '[2nd]', 'Hindi', '[3rd]', 'Marathi')\n"
     ]
    }
   ],
   "source": [
    "def make_schedule(period1,period2, period3):\n",
    "    schedule=(\"[1st]\",period1.title(),\"[2nd]\",period2.title(),\"[3rd]\",period3.title())\n",
    "    return schedule\n",
    "student_timetable= make_schedule(\"english\",\"hindi\", \"marathi\")\n",
    "print(\"SCHEDULE: \",student_timetable)\n"
   ]
  },
  {
   "cell_type": "code",
   "execution_count": 7,
   "metadata": {},
   "outputs": [
    {
     "name": "stdout",
     "output_type": "stream",
     "text": [
      "return this lower\n"
     ]
    }
   ],
   "source": [
    "def low_case(words_in): \n",
    "      return words_in.lower()  \n",
    "words_lower = low_case(\"Return THIS lower\")\n",
    "print(words_lower)"
   ]
  },
  {
   "cell_type": "code",
   "execution_count": 10,
   "metadata": {},
   "outputs": [
    {
     "name": "stdout",
     "output_type": "stream",
     "text": [
      "hat available is True\n"
     ]
    }
   ],
   "source": [
    "def hat_available(color):\n",
    "    hat_colors = 'black, red, blue, green, white, grey, brown, pink'\n",
    "    return(color.lower() in hat_colors)\n",
    "have_hat = hat_available('green')  \n",
    "  \n",
    "print('hat available is', have_hat)"
   ]
  },
  {
   "cell_type": "code",
   "execution_count": 32,
   "metadata": {},
   "outputs": [
    {
     "name": "stdout",
     "output_type": "stream",
     "text": [
      "enter a type of bird to search  test\n",
      "test avaiable is  False\n"
     ]
    }
   ],
   "source": [
    "bird_types = 'crow robin parrot eagle sandpiper hawk pigeon'\n",
    "\n",
    "def bird_available(bird_choice):\n",
    "    check = bird_choice in bird_types\n",
    "    return(check)\n",
    "\n",
    "bird_choice = input(\"enter a type of bird to search  \").lower()\n",
    "test= bird_available(bird_choice)\n",
    "#print(bird_choice, \"avaiable is \", bird_available(bird_choice))\n",
    "print(bird_choice, \"avaiable is \", test)\n"
   ]
  },
  {
   "cell_type": "code",
   "execution_count": 35,
   "metadata": {},
   "outputs": [
    {
     "name": "stdout",
     "output_type": "stream",
     "text": [
      "enter how many you want: y\n",
      "y will be ordered\n"
     ]
    }
   ],
   "source": [
    "# define function how_many\n",
    "def how_many():\n",
    "    requested = input(\"enter how many you want: \")\n",
    "    return requested\n",
    "\n",
    "# get the number_needed\n",
    "number_needed = how_many()\n",
    "print(number_needed, \"will be ordered\")\n"
   ]
  },
  {
   "cell_type": "code",
   "execution_count": 40,
   "metadata": {},
   "outputs": [
    {
     "name": "stdout",
     "output_type": "stream",
     "text": [
      "enter your name: Anil\n",
      "Hi, Anil\n"
     ]
    }
   ],
   "source": [
    "name = input(\"enter your name: \")  \n",
    "def greet(person):  \n",
    "    print(\"Hi,\", person)  \n",
    "\n",
    "greet(name)  \n"
   ]
  },
  {
   "cell_type": "code",
   "execution_count": 43,
   "metadata": {},
   "outputs": [
    {
     "name": "stdout",
     "output_type": "stream",
     "text": [
      "1st line of rhyme\n",
      "2nd line of rhyme\n"
     ]
    }
   ],
   "source": [
    "def short_rhyme():\n",
    "    print(\"1st line of rhyme\")\n",
    "    print(\"2nd line of rhyme\")\n",
    "short_rhyme()\n",
    "\n"
   ]
  },
  {
   "cell_type": "code",
   "execution_count": 49,
   "metadata": {},
   "outputs": [
    {
     "name": "stdout",
     "output_type": "stream",
     "text": [
      "what is the book name? Pot\n",
      "what is the price of the book? 30\n",
      "Title:  Pot costs $ 30\n"
     ]
    }
   ],
   "source": [
    "def title_it(msg):\n",
    "    title= msg.title()\n",
    "    return title\n",
    "def book_store(book_name, price):\n",
    "    name = book_name.title()\n",
    "    return (name)\n",
    "\n",
    "what_title = input (\"what is the book name? \")     \n",
    "what_price = input(\"what is the price of the book? \")\n",
    "book_title=book_store(what_title,what_price)\n",
    "print(\"Title: \", book_title, \"costs $\", what_price)"
   ]
  },
  {
   "cell_type": "code",
   "execution_count": 52,
   "metadata": {},
   "outputs": [
    {
     "name": "stdout",
     "output_type": "stream",
     "text": [
      "enter a name: Anil\n",
      "enter a greeting: Hello\n",
      "Hello Anil!\n"
     ]
    }
   ],
   "source": [
    "def make_greeting(name, greeting = \"Hello\"):\n",
    "    return (greeting + \" \" + name + \"!\")\n",
    "\n",
    "def get_name():\n",
    "    name_entry = input(\"enter a name: \")\n",
    "    return name_entry\n",
    "\n",
    "def get_greeting():\n",
    "    greeting_entry = input(\"enter a greeting: \")\n",
    "    return greeting_entry\n",
    "\n",
    "# get name and greeting, send to make_greeting \n",
    "print(make_greeting(get_name(), get_greeting()))"
   ]
  },
  {
   "cell_type": "code",
   "execution_count": 61,
   "metadata": {},
   "outputs": [
    {
     "name": "stdout",
     "output_type": "stream",
     "text": [
      "Enter Fish type: Tuna\n",
      "Enter Fish Price: 8\n",
      "Fish Type: Tuna costs $8\n"
     ]
    }
   ],
   "source": [
    "#create and test fishstore(), fishstore() takes 2 string arguments: fish & price, fishstore returns a string in sentence form\n",
    "def fish_store(fish_type, price):\n",
    "    return (\"Fish Type: \"+fish_type+\" costs $\"+price) \n",
    "\n",
    "fish_entry = input(\"Enter Fish type: \")\n",
    "price_entry = input(\"Enter Fish Price: \")\n",
    "\n",
    "print(fish_store(fish_entry,price_entry))"
   ]
  }
 ],
 "metadata": {
  "kernelspec": {
   "display_name": "Python 3",
   "language": "python",
   "name": "python3"
  },
  "language_info": {
   "codemirror_mode": {
    "name": "ipython",
    "version": 3
   },
   "file_extension": ".py",
   "mimetype": "text/x-python",
   "name": "python",
   "nbconvert_exporter": "python",
   "pygments_lexer": "ipython3",
   "version": "3.6.5"
  }
 },
 "nbformat": 4,
 "nbformat_minor": 2
}
