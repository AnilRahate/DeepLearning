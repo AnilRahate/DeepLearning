{
  "cells": [
    {
      "metadata": {
        "trusted": true
      },
      "cell_type": "code",
      "source": "# simplified example, # [ ] review the code then run and following the flowchart paths\n\n# ***TIP:*** click in input box before typing\n\nsandwich_type = input('\"c\" for Cheese or \"v\" for Veggie Special: ')\n\nif sandwich_type.lower() == \"c\":\n    # select cheese type\n    cheese_type = input('\"c\" for Cheddar or \"m\" for Manchego: ')\n    \n    if cheese_type.lower() == \"c\":\n        print(\"Here is your Cheddar Cheese sandwich\")\n    else:\n        print(\"Here is your Manchego Cheese sandwich\") \n\nelse:\n    print(\"Here is your Veggie Special\")",
      "execution_count": 4,
      "outputs": [
        {
          "output_type": "stream",
          "name": "stdout",
          "text": "\"c\" for Cheese or \"v\" for Veggie Special: c\n\"c\" for Cheddar or \"m\" for Manchego: gi\nHere is your Manchego Cheese sandwich\n"
        }
      ]
    },
    {
      "metadata": {
        "trusted": true
      },
      "cell_type": "code",
      "source": "# ***TIP:*** click in input box before typing\n\nprint(\"Hi, welcome to the sandwich shop.  Please select a sandwich.\")\n\nsandwich_type = input('\"c\" for Cheese sandwich or \"v\" for Veggie Special: ')\n# select sandwich type sandwich_type = input('\"c\" for Cheese or \"v\" for Veggie Special: ')\nprint()\n    \nif sandwich_type.lower() == \"c\":\n    # select cheese type\n    print(\"Please select a cheese.\")\n    cheese_type = input('\"c\" for Cheddar or \"m\" for Manchego: ')\n    #print()\n    \n    if cheese_type.lower() == \"c\":\n        print(\"Here is your Cheddar Cheese sandwich.  Thank you.\")\n    elif cheese_type.lower() == \"m\":\n        print(\"Here is your Manchego Cheese sandwich.  Thank you.\") \n    else:\n        print(\"Sorry, we don't have\", cheese_type, \"choice today.\")\n\nelif sandwich_type.lower() == \"v\":\n    print(\"Here is your Veggie Special. Thank you.\")\n        \nelse:\n    print(\"Sorry, we don't have\", sandwich_type, \"choice today.\")\nprint()\nprint(\"Goodbye!\")",
      "execution_count": 13,
      "outputs": [
        {
          "output_type": "stream",
          "text": "Hi, welcome to the sandwich shop.  Please select a sandwich.\n\"c\" for Cheese sandwich or \"v\" for Veggie Special: f\n\nSorry, we don't have f choice today.\n\nGoodbye!\n",
          "name": "stdout"
        }
      ]
    },
    {
      "metadata": {
        "trusted": true
      },
      "cell_type": "code",
      "source": "#say hello, nested if\nprint(\"welcome to class\")\ngreeting=input(\"do want to say hello: \")\nif greeting.lower()==\"y\":\n    greeting_cat=input(\"do want to say full hello: \")\n    if greeting_cat==\"y\":\n        print(\"Hello! Mr. Anil, how are you today\")\n    elif greeting_cat==\"n\":\n        print(\"Hi, Anil\")\n    else:\n        print(\"invalid greeting\")      \nelif greeting.lower()==\"n\":\n    print(\"give a friendly nod\")\nelse:\n    print(\"it is strange\")",
      "execution_count": 21,
      "outputs": [
        {
          "output_type": "stream",
          "text": "welcome to class\ndo want to say hello: n\ngive a friendly nod\n",
          "name": "stdout"
        }
      ]
    },
    {
      "metadata": {
        "trusted": true
      },
      "cell_type": "code",
      "source": "# [] Create the \"Guess the bird\" program \nprint(\"welcome, please guess a bird\")\nbird_names=\"'parrot','hen','sparrow','crow','piegon'\"\nguess1=input(\"guess a bird: \").lower()\nguess_check=guess1 in bird_names\nif guess_check==False:\n    print(\"oh. try again\")\n    guess2=input(\"guess a bird: \")\n    guess_check2=guess2 in bird_names\n        if guess_check2==False:\n                print(\"oh! try again\")\n                    guess3=input(\"guess a bird: \")\n                    guess_check3=guess1 in bird_names\n                    if guess_check3==False:\n                        print(\"sorry attempts over\")\n                    else:\n                        print(\"you could guess in 3rd attempt: \", guess3 \")\n        else:\n            print(\"you could guess in 2nd attempt: \", guess2 \")\n       \nelse:\n    print(\"you could guess in 1st attempt: \", guess1 \")\n          \nprint(\"bye\")\n        \n",
      "execution_count": null,
      "outputs": []
    }
  ],
  "metadata": {
    "kernelspec": {
      "name": "python3",
      "display_name": "Python 3",
      "language": "python"
    },
    "language_info": {
      "mimetype": "text/x-python",
      "nbconvert_exporter": "python",
      "name": "python",
      "file_extension": ".py",
      "version": "3.5.4",
      "pygments_lexer": "ipython3",
      "codemirror_mode": {
        "version": 3,
        "name": "ipython"
      }
    }
  },
  "nbformat": 4,
  "nbformat_minor": 1
}